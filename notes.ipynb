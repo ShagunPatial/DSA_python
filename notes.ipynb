{
 "cells": [
  {
   "cell_type": "markdown",
   "metadata": {},
   "source": [
    "**Subsets**:\n",
    "string = \"AB\", subset ==> \"\",\"A\",\"B\",\"AB\""
   ]
  },
  {
   "cell_type": "markdown",
   "metadata": {},
   "source": [
    "**Subsequence** are obtained if order/postion of character is maintined."
   ]
  },
  {
   "cell_type": "markdown",
   "metadata": {},
   "source": [
    "For string of length n: no. of subsequence/subset =**2^n**  (python=> 2**n)"
   ]
  },
  {
   "cell_type": "markdown",
   "metadata": {},
   "source": []
  }
 ],
 "metadata": {
  "language_info": {
   "name": "python"
  },
  "orig_nbformat": 4
 },
 "nbformat": 4,
 "nbformat_minor": 2
}
