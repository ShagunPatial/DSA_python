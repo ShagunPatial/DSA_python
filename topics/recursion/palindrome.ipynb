{
 "cells": [
  {
   "cell_type": "markdown",
   "metadata": {},
   "source": [
    "Check Palindrome using recursion"
   ]
  },
  {
   "cell_type": "code",
   "execution_count": 5,
   "metadata": {},
   "outputs": [
    {
     "name": "stdout",
     "output_type": "stream",
     "text": [
      "Nitin  =  False\n",
      "alalala  =  True\n",
      "hheehio  =  False\n",
      "cajfsfvsk  =  False\n",
      "abba  =  True\n",
      "a  =  True\n"
     ]
    }
   ],
   "source": [
    "def check_palind(inp_string, st, end):\n",
    "    if (st >= end):\n",
    "        return True\n",
    "    return inp_string[st] == inp_string[end] and check_palind(inp_string, st+1, end-1)\n",
    "\n",
    "inputs = [\"Nitin\", \"alalala\", \"hheehio\", \"cajfsfvsk\", \"abba\", \"a\"]\n",
    "for inp_st in inputs:\n",
    "    print(inp_st,\" = \" ,check_palind(inp_st,0,len(inp_st)-1))"
   ]
  },
  {
   "cell_type": "code",
   "execution_count": null,
   "metadata": {},
   "outputs": [],
   "source": []
  }
 ],
 "metadata": {
  "kernelspec": {
   "display_name": "env",
   "language": "python",
   "name": "python3"
  },
  "language_info": {
   "codemirror_mode": {
    "name": "ipython",
    "version": 3
   },
   "file_extension": ".py",
   "mimetype": "text/x-python",
   "name": "python",
   "nbconvert_exporter": "python",
   "pygments_lexer": "ipython3",
   "version": "3.10.12"
  },
  "orig_nbformat": 4
 },
 "nbformat": 4,
 "nbformat_minor": 2
}
