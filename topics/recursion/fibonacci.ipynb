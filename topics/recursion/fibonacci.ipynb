{
 "cells": [
  {
   "cell_type": "markdown",
   "metadata": {},
   "source": [
    "print Nth Fibonacci number"
   ]
  },
  {
   "cell_type": "code",
   "execution_count": 5,
   "metadata": {},
   "outputs": [
    {
     "name": "stdout",
     "output_type": "stream",
     "text": [
      "5th number in fibo series:  5\n",
      "6th number in fibo series:  8\n",
      "7th number in fibo series:  13\n",
      "0th number in fibo series:  0\n",
      "1th number in fibo series:  1\n",
      "20th number in fibo series:  6765\n"
     ]
    }
   ],
   "source": [
    "def fibo(num):\n",
    "    if num in [0,1]:\n",
    "        return num\n",
    "    return fibo(num-1) + fibo(num-2)\n",
    "print(\"5th number in fibo series: \",fibo(5))\n",
    "print(\"6th number in fibo series: \",fibo(6))\n",
    "print(\"7th number in fibo series: \",fibo(7))\n",
    "print(\"0th number in fibo series: \",fibo(0))\n",
    "print(\"1th number in fibo series: \",fibo(1))\n",
    "print(\"20th number in fibo series: \",fibo(20))"
   ]
  },
  {
   "cell_type": "code",
   "execution_count": null,
   "metadata": {},
   "outputs": [],
   "source": []
  }
 ],
 "metadata": {
  "kernelspec": {
   "display_name": "env",
   "language": "python",
   "name": "python3"
  },
  "language_info": {
   "codemirror_mode": {
    "name": "ipython",
    "version": 3
   },
   "file_extension": ".py",
   "mimetype": "text/x-python",
   "name": "python",
   "nbconvert_exporter": "python",
   "pygments_lexer": "ipython3",
   "version": "3.10.12"
  },
  "orig_nbformat": 4
 },
 "nbformat": 4,
 "nbformat_minor": 2
}
