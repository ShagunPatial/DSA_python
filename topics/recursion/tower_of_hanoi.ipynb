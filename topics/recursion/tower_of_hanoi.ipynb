{
 "cells": [
  {
   "cell_type": "markdown",
   "metadata": {},
   "source": [
    "We have three tower A,B,C , we have 'N' discs in tower A and we have to move all the disks to tower C."
   ]
  },
  {
   "cell_type": "markdown",
   "metadata": {},
   "source": [
    "Following Condtion's should be take care :\n",
    "1. Only one disk moves at a time.\n",
    "2. no londer disk above smaller.\n",
    "3. only the top disk can we moved at a time."
   ]
  },
  {
   "cell_type": "markdown",
   "metadata": {},
   "source": [
    "Solution:\n",
    "Suppose if we have to Nth  (bottom largest disk) of Tower A,\n",
    "- we have to move all (N-1) disk from A to tower B using auxillary tower 'C' ,\n",
    "- move Nth disk from A to C.\n",
    "- move N-1 disks from B to C using auxillary tower A.\n",
    "\n",
    "corner cases: if We have only one disk in A , then we can directly move to A to C.\n",
    "for n no. of disk we have to make 2^n -1 moves."
   ]
  },
  {
   "cell_type": "code",
   "execution_count": 9,
   "metadata": {},
   "outputs": [
    {
     "name": "stdout",
     "output_type": "stream",
     "text": [
      "move 1st disk A to B\n",
      "move 2th disk A to C\n",
      "move 1st disk B to C\n",
      "move 3th disk A to B\n",
      "move 1st disk C to A\n",
      "move 2th disk C to B\n",
      "move 1st disk A to B\n",
      "move 4th disk A to C\n",
      "move 1st disk B to C\n",
      "move 2th disk B to A\n",
      "move 1st disk C to A\n",
      "move 3th disk B to C\n",
      "move 1st disk A to B\n",
      "move 2th disk A to C\n",
      "move 1st disk B to C\n"
     ]
    }
   ],
   "source": [
    "def toi(n,A,B,C):\n",
    "    if n==1:\n",
    "        print(f\"move 1st disk {A} to {C}\")\n",
    "        return\n",
    "    toi(n-1,A,C,B)\n",
    "    print(f\"move {n}th disk {A} to {C}\")\n",
    "    toi(n-1,B,A,C)\n",
    "\n",
    "n = 4\n",
    "A,B,C = 'A','B','C'\n",
    "toi(n,A,B,C)"
   ]
  },
  {
   "cell_type": "code",
   "execution_count": null,
   "metadata": {},
   "outputs": [],
   "source": []
  }
 ],
 "metadata": {
  "kernelspec": {
   "display_name": "env",
   "language": "python",
   "name": "python3"
  },
  "language_info": {
   "codemirror_mode": {
    "name": "ipython",
    "version": 3
   },
   "file_extension": ".py",
   "mimetype": "text/x-python",
   "name": "python",
   "nbconvert_exporter": "python",
   "pygments_lexer": "ipython3",
   "version": "3.10.12"
  },
  "orig_nbformat": 4
 },
 "nbformat": 4,
 "nbformat_minor": 2
}
