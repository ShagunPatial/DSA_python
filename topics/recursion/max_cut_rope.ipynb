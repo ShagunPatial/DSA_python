{
 "cells": [
  {
   "cell_type": "markdown",
   "metadata": {},
   "source": [
    "Rope Cutting Problem:\n",
    "rope length N, length of cuts are allowed are A, B, C, We have to find the maximum cuts possible"
   ]
  },
  {
   "cell_type": "code",
   "execution_count": 2,
   "metadata": {},
   "outputs": [
    {
     "name": "stdout",
     "output_type": "stream",
     "text": [
      "Enter N, A,B,C: \n",
      "5\n"
     ]
    }
   ],
   "source": [
    "def maxcut(n,a,b,c):\n",
    "    if n == 0 :\n",
    "        return 0\n",
    "    if n < 0:\n",
    "        return -1\n",
    "    res = max(maxcut(n-a,a,b,c),maxcut(n-b,a,b,c), maxcut(n-c,a,b,c))\n",
    "    if res == -1:\n",
    "        return -1\n",
    "    return res+1\n",
    "print(\"Enter N, A,B,C: \")\n",
    "n,a,b,c = 5,2,5,1 #map(int,input().split())\n",
    "\n",
    "print(maxcut(n,a,b,c))"
   ]
  },
  {
   "cell_type": "code",
   "execution_count": null,
   "metadata": {},
   "outputs": [],
   "source": []
  }
 ],
 "metadata": {
  "kernelspec": {
   "display_name": "env",
   "language": "python",
   "name": "python3"
  },
  "language_info": {
   "codemirror_mode": {
    "name": "ipython",
    "version": 3
   },
   "file_extension": ".py",
   "mimetype": "text/x-python",
   "name": "python",
   "nbconvert_exporter": "python",
   "pygments_lexer": "ipython3",
   "version": "3.10.12"
  },
  "orig_nbformat": 4
 },
 "nbformat": 4,
 "nbformat_minor": 2
}
