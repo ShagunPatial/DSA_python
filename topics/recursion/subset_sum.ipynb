{
 "cells": [
  {
   "cell_type": "markdown",
   "metadata": {},
   "source": [
    "Count of each subset in set whose sum is equals to S.\n"
   ]
  },
  {
   "cell_type": "code",
   "execution_count": 8,
   "metadata": {},
   "outputs": [
    {
     "name": "stdout",
     "output_type": "stream",
     "text": [
      "[10, 5, 2, 3, 6]\n",
      "2\n"
     ]
    }
   ],
   "source": [
    "def c_subset(arr, ind, sm):\n",
    "    if ind == 0:\n",
    "        return 1 if sm == 0 else 0\n",
    "    return c_subset(arr, ind-1, sm) + c_subset(arr, ind-1, sm-arr[ind-1])\n",
    "\n",
    "inp_arr, sm= [10,5,2,3,6], 0\n",
    "print(inp_arr)\n",
    "print(c_subset(inp_arr, len(inp_arr), sm))"
   ]
  },
  {
   "cell_type": "code",
   "execution_count": null,
   "metadata": {},
   "outputs": [],
   "source": []
  }
 ],
 "metadata": {
  "kernelspec": {
   "display_name": "env",
   "language": "python",
   "name": "python3"
  },
  "language_info": {
   "codemirror_mode": {
    "name": "ipython",
    "version": 3
   },
   "file_extension": ".py",
   "mimetype": "text/x-python",
   "name": "python",
   "nbconvert_exporter": "python",
   "pygments_lexer": "ipython3",
   "version": "3.10.12"
  },
  "orig_nbformat": 4
 },
 "nbformat": 4,
 "nbformat_minor": 2
}
