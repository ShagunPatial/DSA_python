{
 "cells": [
  {
   "cell_type": "markdown",
   "metadata": {},
   "source": [
    "Print 1 to n "
   ]
  },
  {
   "cell_type": "code",
   "execution_count": 4,
   "metadata": {},
   "outputs": [
    {
     "name": "stdout",
     "output_type": "stream",
     "text": [
      "1\n",
      "2\n",
      "3\n",
      "4\n",
      "5\n",
      "6\n",
      "7\n",
      "8\n",
      "9\n",
      "10\n"
     ]
    }
   ],
   "source": [
    "def rec_pr(num):\n",
    "   if not num:\n",
    "      return\n",
    "   rec_pr(num-1)\n",
    "   print(num)\n",
    "\n",
    "num = int(input(\"Enter Number: \"))\n",
    "rec_pr(num)\n"
   ]
  },
  {
   "cell_type": "markdown",
   "metadata": {},
   "source": [
    "**Print n to 1**"
   ]
  },
  {
   "cell_type": "code",
   "execution_count": 5,
   "metadata": {},
   "outputs": [
    {
     "name": "stdout",
     "output_type": "stream",
     "text": [
      "10\n",
      "9\n",
      "8\n",
      "7\n",
      "6\n",
      "5\n",
      "4\n",
      "3\n",
      "2\n",
      "1\n"
     ]
    }
   ],
   "source": [
    "def rec_pr(num):\n",
    "   if not num:\n",
    "      return\n",
    "   print(num)\n",
    "   rec_pr(num-1)\n",
    "  \n",
    "\n",
    "num = int(input(\"Enter Number: \"))\n",
    "rec_pr(num)"
   ]
  },
  {
   "cell_type": "markdown",
   "metadata": {},
   "source": [
    "**Trail recursion**: a recursive function in which the recursive call is the last statement that is executed by the function. So basically nothing is left to execute after the recursion call.\n",
    "\n",
    "these takes less time to execute, we can see the example of factorial below:"
   ]
  },
  {
   "cell_type": "code",
   "execution_count": 23,
   "metadata": {},
   "outputs": [
    {
     "name": "stdout",
     "output_type": "stream",
     "text": [
      "720\n",
      "720\n",
      "F2 faster\n"
     ]
    }
   ],
   "source": [
    "import time \n",
    "\n",
    "def time_count(func):\n",
    "\n",
    "    def inner(*args, **kwargs):\n",
    "        time1 = time.time()\n",
    "        print(func(*args,**kwargs))\n",
    "        time_taken = time.time()-time1\n",
    "        return time_taken\n",
    "    return inner\n",
    "\n",
    "def fact(num ,k=1):\n",
    "    if num == 1:\n",
    "        return 1\n",
    "    return num * fact(num-1,k)\n",
    "\n",
    "\n",
    "def fact_opt(num,k=0):\n",
    "    if num == 1:\n",
    "        return k\n",
    "    return fact_opt(num-1, k*num)\n",
    "\n",
    "@time_count\n",
    "def no_t_r(num,k):\n",
    "    return fact(num,k)\n",
    "\n",
    "@time_count\n",
    "def t_r(num,k):\n",
    "    return fact_opt(num,k)\n",
    "\n",
    "f1 = no_t_r(num=6,k=1)\n",
    "f2 = t_r(num=6,k=1)\n",
    "\n",
    "if f1 > f2:\n",
    "    print(\"F2 faster\")\n",
    "else:\n",
    "    print(\"F1 faster\")"
   ]
  },
  {
   "cell_type": "code",
   "execution_count": null,
   "metadata": {},
   "outputs": [],
   "source": []
  }
 ],
 "metadata": {
  "kernelspec": {
   "display_name": "env",
   "language": "python",
   "name": "python3"
  },
  "language_info": {
   "codemirror_mode": {
    "name": "ipython",
    "version": 3
   },
   "file_extension": ".py",
   "mimetype": "text/x-python",
   "name": "python",
   "nbconvert_exporter": "python",
   "pygments_lexer": "ipython3",
   "version": "3.10.12"
  },
  "orig_nbformat": 4
 },
 "nbformat": 4,
 "nbformat_minor": 2
}
