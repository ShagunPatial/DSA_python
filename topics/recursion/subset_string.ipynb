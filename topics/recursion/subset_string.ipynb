{
 "cells": [
  {
   "cell_type": "markdown",
   "metadata": {},
   "source": [
    "Print all subsets of given string\n",
    "ex: \n",
    "i/p String = AB\n",
    "o/p = '','A', 'B','AB'"
   ]
  },
  {
   "cell_type": "markdown",
   "metadata": {},
   "source": [
    "Recursive Solution: \n",
    "in each traversal (or time) we have two option whether to add particular character or not."
   ]
  },
  {
   "cell_type": "code",
   "execution_count": 2,
   "metadata": {},
   "outputs": [
    {
     "name": "stdout",
     "output_type": "stream",
     "text": [
      "\n",
      "B\n",
      "A\n",
      "AB\n"
     ]
    }
   ],
   "source": [
    "def gen_sub(inp_str, curr, ind):\n",
    "    if ind == len(inp_str):\n",
    "        print(curr)\n",
    "        return\n",
    "    gen_sub(inp_str, curr , ind+1)\n",
    "    gen_sub(inp_str, curr+inp_str[ind], ind+1)\n",
    "\n",
    "\n",
    "inp_str=\"ABC\"\n",
    "gen_sub(inp_str, \"\", 0)"
   ]
  },
  {
   "cell_type": "code",
   "execution_count": null,
   "metadata": {},
   "outputs": [],
   "source": []
  }
 ],
 "metadata": {
  "kernelspec": {
   "display_name": "env",
   "language": "python",
   "name": "python3"
  },
  "language_info": {
   "codemirror_mode": {
    "name": "ipython",
    "version": 3
   },
   "file_extension": ".py",
   "mimetype": "text/x-python",
   "name": "python",
   "nbconvert_exporter": "python",
   "pygments_lexer": "ipython3",
   "version": "3.10.12"
  },
  "orig_nbformat": 4
 },
 "nbformat": 4,
 "nbformat_minor": 2
}
