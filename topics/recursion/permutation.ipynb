{
 "cells": [
  {
   "cell_type": "markdown",
   "metadata": {},
   "source": [
    "Print all permutation of Given string"
   ]
  },
  {
   "cell_type": "markdown",
   "metadata": {},
   "source": [
    "Solution:\n",
    "- we have to loop through each place\n",
    "- we have to fix one character first and make permutaion for others.\n",
    "\n",
    "for fixing character at every step we are using swap function."
   ]
  },
  {
   "cell_type": "code",
   "execution_count": 3,
   "metadata": {},
   "outputs": [
    {
     "name": "stdout",
     "output_type": "stream",
     "text": [
      "ABCD\n",
      "ABDC\n",
      "ACBD\n",
      "ACDB\n",
      "ADCB\n",
      "ADBC\n",
      "BACD\n",
      "BADC\n",
      "BCAD\n",
      "BCDA\n",
      "BDCA\n",
      "BDAC\n",
      "CBAD\n",
      "CBDA\n",
      "CABD\n",
      "CADB\n",
      "CDAB\n",
      "CDBA\n",
      "DBCA\n",
      "DBAC\n",
      "DCBA\n",
      "DCAB\n",
      "DACB\n",
      "DABC\n"
     ]
    }
   ],
   "source": [
    "def perm(inp_str, ind=0):\n",
    "    if ind == len(inp_str)-1:\n",
    "        print(''.join(inp_str))\n",
    "        return\n",
    "    \n",
    "    for j in range(ind,len(inp_str)):\n",
    "        #fix character at i\n",
    "        inp_str[ind],inp_str[j] = inp_str[j],inp_str[ind]\n",
    "        #gneration permutaion for other\n",
    "        perm(inp_str, ind+1)\n",
    "        # swap back string to normal\n",
    "        inp_str[ind],inp_str[j] = inp_str[j],inp_str[ind]\n",
    "\n",
    "perm(['A','B','C','D'],0)"
   ]
  },
  {
   "cell_type": "code",
   "execution_count": null,
   "metadata": {},
   "outputs": [],
   "source": []
  }
 ],
 "metadata": {
  "kernelspec": {
   "display_name": "env",
   "language": "python",
   "name": "python3"
  },
  "language_info": {
   "codemirror_mode": {
    "name": "ipython",
    "version": 3
   },
   "file_extension": ".py",
   "mimetype": "text/x-python",
   "name": "python",
   "nbconvert_exporter": "python",
   "pygments_lexer": "ipython3",
   "version": "3.10.12"
  },
  "orig_nbformat": 4
 },
 "nbformat": 4,
 "nbformat_minor": 2
}
