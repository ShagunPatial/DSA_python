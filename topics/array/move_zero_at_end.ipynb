{
 "cells": [
  {
   "cell_type": "code",
   "execution_count": 1,
   "metadata": {},
   "outputs": [
    {
     "name": "stdout",
     "output_type": "stream",
     "text": [
      "[10, 8, 12, 0, 0, 0]\n"
     ]
    }
   ],
   "source": [
    "# move zero at the end of array\n",
    "# [10,8,0,0,0,12] => [10,8,12,0,0,0]\n",
    "\n",
    "\n",
    "lis = [10,8,0,0,0,12]\n",
    "\n",
    "rem_zero_ind = 0\n",
    "for i in range(len(lis)):\n",
    "    if lis[i]!=0:\n",
    "        lis[i],lis[rem_zero_ind] = lis[rem_zero_ind],lis[i]\n",
    "        rem_zero_ind +=1\n",
    "\n",
    "print(lis)"
   ]
  },
  {
   "cell_type": "markdown",
   "metadata": {},
   "source": [
    "idea is to \n",
    "- get the index of last zeroth element: rem_zero_ind\n",
    "- whenever you find the non zero replace with that index rem_zero_ind and incerement this index\n",
    "\n",
    "\n",
    "\n"
   ]
  },
  {
   "cell_type": "code",
   "execution_count": null,
   "metadata": {},
   "outputs": [],
   "source": []
  }
 ],
 "metadata": {
  "kernelspec": {
   "display_name": "env",
   "language": "python",
   "name": "python3"
  },
  "language_info": {
   "codemirror_mode": {
    "name": "ipython",
    "version": 3
   },
   "file_extension": ".py",
   "mimetype": "text/x-python",
   "name": "python",
   "nbconvert_exporter": "python",
   "pygments_lexer": "ipython3",
   "version": "3.10.12"
  },
  "orig_nbformat": 4
 },
 "nbformat": 4,
 "nbformat_minor": 2
}
