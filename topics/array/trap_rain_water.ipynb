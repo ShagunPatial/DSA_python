{
 "cells": [
  {
   "cell_type": "markdown",
   "metadata": {},
   "source": [
    "Given an array of N non-negative integers arr[ ] representing an elevation map where the width of each bar is 1, compute how much water it is able to trap after rain.\n",
    "\n",
    "Input: arr[]   = {3, 0, 2, 0, 4}\n",
    "Output: 7\n",
    "\n",
    "Explanation:\n",
    "We can trap “3 units” of water between 3 and 2,\n",
    "“1 unit” on top of bar 2 and “3 units” between 2 and 4."
   ]
  },
  {
   "cell_type": "code",
   "execution_count": 1,
   "metadata": {},
   "outputs": [],
   "source": [
    "#solution:\n",
    "# max amount can be store at particular tower is minimum of left maximum - right maximum tower - height of that tower\n",
    "# lets precompute this left max and right max for optimization\n",
    "\n",
    "arr = [3,0,2,0,4]\n",
    "\n",
    "lft_max, rgt_max = []\n",
    "for i in range(len(arr)):\n",
    "\n",
    "\n"
   ]
  },
  {
   "cell_type": "markdown",
   "metadata": {},
   "source": []
  }
 ],
 "metadata": {
  "kernelspec": {
   "display_name": "env",
   "language": "python",
   "name": "python3"
  },
  "language_info": {
   "codemirror_mode": {
    "name": "ipython",
    "version": 3
   },
   "file_extension": ".py",
   "mimetype": "text/x-python",
   "name": "python",
   "nbconvert_exporter": "python",
   "pygments_lexer": "ipython3",
   "version": "3.10.12"
  },
  "orig_nbformat": 4
 },
 "nbformat": 4,
 "nbformat_minor": 2
}
