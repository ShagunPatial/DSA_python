{
 "cells": [
  {
   "cell_type": "markdown",
   "metadata": {},
   "source": [
    "The cost of a stock on each day is given in an array. Find the maximum profit that you can make by buying and selling on those days\n",
    "\n",
    "Input: arr[] = {100, 180, 260, 310, 40, 535, 695}\n",
    "Output: 865\n",
    "\n",
    "Explanation: Buy the stock on day 0 and sell it on day 3 => 310 – 100 = 210\n",
    "                       Buy the stock on day 4 and sell it on day 6 => 695 – 40 = 655\n",
    "                       Maximum Profit  = 210 + 655 = 865\n",
    "\n",
    "Input: arr[] = {4, 2, 2, 2, 4}\n",
    "Output: 2\n",
    "\n",
    "Explanation: Buy the stock on day 1 and sell it on day 4 => 4 – 2 = 2\n",
    "                       Maximum Profit  = 2"
   ]
  },
  {
   "cell_type": "markdown",
   "metadata": {},
   "source": [
    "**Solution**:\n",
    "\n",
    "A simple approach is to try buying the stocks and selling them every single day when profitable and keep updating the maximum profit so far.\n",
    "\n",
    "Follow the steps below to solve the problem:\n",
    "\n",
    "Try to buy every stock from start to end – 1\n",
    "After that again call the maxProfit function to calculate answer\n",
    "curr_profit = price[j] – price[i] + maxProfit(start, i – 1) + maxProfit(j + 1, end)\n",
    "profit = max(profit, curr_profit)\n",
    "Time Complexity: O(n2), Trying to buy every stock and exploring all possibilities.\n",
    "Auxiliary Space: O(1)\n"
   ]
  },
  {
   "cell_type": "markdown",
   "metadata": {},
   "source": [
    "Efficient Approach (Valley Peak Approach):\n",
    "In this approach, we just need to find the next greater element and subtract it from the current element so that the difference keeps increasing until we reach a minimum. If the sequence is a decreasing sequence, so the maximum profit possible is 0."
   ]
  },
  {
   "cell_type": "code",
   "execution_count": 2,
   "metadata": {},
   "outputs": [
    {
     "name": "stdout",
     "output_type": "stream",
     "text": [
      "2\n"
     ]
    }
   ],
   "source": [
    "arr = [100, 180, 260, 310, 40, 535, 695]\n",
    "#arr = [4,2,2,2,4]\n",
    "profit = 0\n",
    "for i in range(1,len(arr)):\n",
    "    if arr[i-1] < arr[i]:\n",
    "        profit += (arr[i]-arr[i-1])\n",
    "\n",
    "print(profit)"
   ]
  }
 ],
 "metadata": {
  "kernelspec": {
   "display_name": "env",
   "language": "python",
   "name": "python3"
  },
  "language_info": {
   "codemirror_mode": {
    "name": "ipython",
    "version": 3
   },
   "file_extension": ".py",
   "mimetype": "text/x-python",
   "name": "python",
   "nbconvert_exporter": "python",
   "pygments_lexer": "ipython3",
   "version": "3.10.12"
  },
  "orig_nbformat": 4
 },
 "nbformat": 4,
 "nbformat_minor": 2
}
