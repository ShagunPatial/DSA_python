{
 "cells": [
  {
   "cell_type": "markdown",
   "metadata": {},
   "source": [
    "Left rotate array by 1 \n",
    "1. take ip as : [1,2,3,4,5]\n",
    "o/p = [2,3,4,5,1]\n",
    "\n",
    "2. take ip as : [30,5,20]\n",
    "o/p : [5,20,30]"
   ]
  },
  {
   "cell_type": "code",
   "execution_count": 11,
   "metadata": {},
   "outputs": [
    {
     "data": {
      "text/plain": [
       "[5, 20, 30]"
      ]
     },
     "execution_count": 11,
     "metadata": {},
     "output_type": "execute_result"
    }
   ],
   "source": [
    "ip = [30,5,20]\n",
    "op= [] # requires auxillary space , for not using auxillary space use temp to store first element of list\n",
    "for i in range(len(ip)):\n",
    "    op.append(ip[ (i+1) % len(ip)])\n",
    "print(op)\n"
   ]
  },
  {
   "cell_type": "markdown",
   "metadata": {},
   "source": [
    "left rotate array by D:\n",
    "arr [] = [1,2,3,4,5] , D = 2\n",
    "o/p = [3,4,5,1,2]"
   ]
  },
  {
   "cell_type": "code",
   "execution_count": 13,
   "metadata": {},
   "outputs": [
    {
     "name": "stdout",
     "output_type": "stream",
     "text": [
      "[3, 4, 5, 1, 2]\n"
     ]
    }
   ],
   "source": [
    "ip = [1,2,3,4,5]\n",
    "d = 2\n",
    "op= [] \n",
    "for i in range(len(ip)):\n",
    "    op.append(ip[ (i+2) % len(ip)])\n",
    "print(op)"
   ]
  },
  {
   "cell_type": "code",
   "execution_count": null,
   "metadata": {},
   "outputs": [],
   "source": [
    "\"\"\"\n",
    "Solution:\n",
    "1. Reverse array upto D \n",
    "2. Reverse array D+1 to N\n",
    "3. Reverse whole array\n",
    "\"\"\"\n",
    "\n",
    "def rev(arr, l, h):\n",
    "    while (l < h):\n",
    "        arr[l],arr[h] = arr[h], arr[l]\n",
    "        l +=1\n",
    "        h -= 1\n",
    "\n",
    "ip = [1,2,3,4,5]\n"
   ]
  }
 ],
 "metadata": {
  "kernelspec": {
   "display_name": "env",
   "language": "python",
   "name": "python3"
  },
  "language_info": {
   "codemirror_mode": {
    "name": "ipython",
    "version": 3
   },
   "file_extension": ".py",
   "mimetype": "text/x-python",
   "name": "python",
   "nbconvert_exporter": "python",
   "pygments_lexer": "ipython3",
   "version": "3.10.12"
  },
  "orig_nbformat": 4
 },
 "nbformat": 4,
 "nbformat_minor": 2
}
